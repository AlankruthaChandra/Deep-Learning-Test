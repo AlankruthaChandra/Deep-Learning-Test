{
 "cells": [
  {
   "cell_type": "markdown",
   "metadata": {},
   "source": [
    "# Follow-Me Project\n",
    "Congratulations on reaching the final project of the Robotics Nanodegree! \n",
    "\n",
    "Previously, you worked on the Semantic Segmentation lab where you built a deep learning network that locates a particular human target within an image. For this project, you will utilize what you implemented and learned from that lab and extend it to train a deep learning model that will allow a simulated quadcopter to follow around the person that it detects! \n",
    "\n",
    "Most of the code below is similar to the lab with some minor modifications. You can start with your existing solution, and modify and improve upon it to train the best possible model for this task.\n",
    "\n",
    "You can click on any of the following to quickly jump to that part of this notebook:\n",
    "1. [Data Collection](#data)\n",
    "2. [FCN Layers](#fcn)\n",
    "3. [Build the Model](#build)\n",
    "4. [Training](#training)\n",
    "5. [Prediction](#prediction)\n",
    "6. [Evaluation](#evaluation)"
   ]
  },
  {
   "cell_type": "markdown",
   "metadata": {},
   "source": [
    "## Data Collection<a id='data'></a>\n",
    "We have provided you with a starting dataset for this project. Download instructions can be found in the README for this project's repo.\n",
    "Alternatively, you can collect additional data of your own to improve your model. Check out the \"Collecting Data\" section in the Project Lesson in the Classroom for more details!"
   ]
  },
  {
   "cell_type": "code",
   "execution_count": 1,
   "metadata": {
    "collapsed": true
   },
   "outputs": [],
   "source": [
    "import os\n",
    "import glob\n",
    "import sys\n",
    "import tensorflow as tf\n",
    "\n",
    "from scipy import misc\n",
    "import numpy as np\n",
    "\n",
    "from tensorflow.contrib.keras.python import keras\n",
    "from tensorflow.contrib.keras.python.keras import layers, models\n",
    "\n",
    "from tensorflow import image\n",
    "\n",
    "from utils import scoring_utils\n",
    "from utils.separable_conv2d import SeparableConv2DKeras, BilinearUpSampling2D\n",
    "from utils import data_iterator\n",
    "from utils import plotting_tools \n",
    "from utils import model_tools"
   ]
  },
  {
   "cell_type": "markdown",
   "metadata": {},
   "source": [
    "## FCN Layers <a id='fcn'></a>\n",
    "In the Classroom, we discussed the different layers that constitute a fully convolutional network (FCN). The following code will introduce you to the functions that you need to build your semantic segmentation model."
   ]
  },
  {
   "cell_type": "markdown",
   "metadata": {},
   "source": [
    "### Separable Convolutions\n",
    "The Encoder for your FCN will essentially require separable convolution layers, due to their advantages as explained in the classroom. The 1x1 convolution layer in the FCN, however, is a regular convolution. Implementations for both are provided below for your use. Each includes batch normalization with the ReLU activation function applied to the layers. "
   ]
  },
  {
   "cell_type": "code",
   "execution_count": 2,
   "metadata": {
    "collapsed": true
   },
   "outputs": [],
   "source": [
    "def separable_conv2d_batchnorm(input_layer, filters, strides=1):\n",
    "    output_layer = SeparableConv2DKeras(filters=filters,kernel_size=5, strides=strides,\n",
    "                             padding='same', activation='relu')(input_layer)\n",
    "    \n",
    "    output_layer = layers.BatchNormalization()(output_layer) \n",
    "    return output_layer\n",
    "\n",
    "def conv2d_batchnorm(input_layer, filters, kernel_size=5, strides=1):\n",
    "    output_layer = layers.Conv2D(filters=filters, kernel_size=kernel_size, strides=strides, \n",
    "                      padding='same', activation='relu')(input_layer)\n",
    "    \n",
    "    output_layer = layers.BatchNormalization()(output_layer) \n",
    "    return output_layer"
   ]
  },
  {
   "cell_type": "markdown",
   "metadata": {},
   "source": [
    "### Bilinear Upsampling\n",
    "The following helper function implements the bilinear upsampling layer. Upsampling by a factor of 2 is generally recommended, but you can try out different factors as well. Upsampling is used in the decoder block of the FCN."
   ]
  },
  {
   "cell_type": "code",
   "execution_count": 3,
   "metadata": {
    "collapsed": true
   },
   "outputs": [],
   "source": [
    "def bilinear_upsample(input_layer):\n",
    "    output_layer = BilinearUpSampling2D((2,2))(input_layer)\n",
    "    return output_layer"
   ]
  },
  {
   "cell_type": "markdown",
   "metadata": {},
   "source": [
    "## Build the Model <a id='build'></a>\n",
    "In the following cells, you will build an FCN to train a model to detect and locate the hero target within an image. The steps are:\n",
    "- Create an `encoder_block`\n",
    "- Create a `decoder_block`\n",
    "- Build the FCN consisting of encoder block(s), a 1x1 convolution, and decoder block(s).  This step requires experimentation with different numbers of layers and filter sizes to build your model."
   ]
  },
  {
   "cell_type": "markdown",
   "metadata": {},
   "source": [
    "### Encoder Block\n",
    "Create an encoder block that includes a separable convolution layer using the `separable_conv2d_batchnorm()` function. The `filters` parameter defines the size or depth of the output layer. For example, 32 or 64. "
   ]
  },
  {
   "cell_type": "code",
   "execution_count": 4,
   "metadata": {
    "collapsed": true
   },
   "outputs": [],
   "source": [
    "def encoder_block(input_layer, filters = 32, strides = 2):\n",
    "    \n",
    "    # TODO Create a separable convolution layer using the separable_conv2d_batchnorm() function.\n",
    "    output_layer = separable_conv2d_batchnorm(input_layer, filters, strides = strides)\n",
    "    return output_layer"
   ]
  },
  {
   "cell_type": "markdown",
   "metadata": {},
   "source": [
    "### Decoder Block\n",
    "The decoder block is comprised of three parts:\n",
    "- A bilinear upsampling layer using the upsample_bilinear() function. The current recommended factor for upsampling is set to 2.\n",
    "- A layer concatenation step. This step is similar to skip connections. You will concatenate the upsampled small_ip_layer and the large_ip_layer.\n",
    "- Some (one or two) additional separable convolution layers to extract some more spatial information from prior layers."
   ]
  },
  {
   "cell_type": "code",
   "execution_count": 5,
   "metadata": {
    "collapsed": true
   },
   "outputs": [],
   "source": [
    "def decoder_block(small_ip_layer, large_ip_layer, filters):\n",
    "    \n",
    "    # TODO Upsample the small input layer using the bilinear_upsample() function.\n",
    "    output_layer = bilinear_upsample(small_ip_layer)\n",
    "    \n",
    "    # TODO Concatenate the upsampled and large input layers using layers.concatenate\n",
    "    output_layer = layers.concatenate([output_layer, large_ip_layer])\n",
    "    # TODO Add some number of separable convolution layers\n",
    "    output_layer = separable_conv2d_batchnorm(output_layer, filters)\n",
    "    \n",
    "    return output_layer"
   ]
  },
  {
   "cell_type": "markdown",
   "metadata": {},
   "source": [
    "### Model\n",
    "\n",
    "Now that you have the encoder and decoder blocks ready, go ahead and build your FCN architecture! \n",
    "\n",
    "There are three steps:\n",
    "- Add encoder blocks to build the encoder layers. This is similar to how you added regular convolutional layers in your CNN lab.\n",
    "- Add a 1x1 Convolution layer using the conv2d_batchnorm() function. Remember that 1x1 Convolutions require a kernel and stride of 1.\n",
    "- Add decoder blocks for the decoder layers."
   ]
  },
  {
   "cell_type": "code",
   "execution_count": 6,
   "metadata": {
    "collapsed": true
   },
   "outputs": [],
   "source": [
    "def fcn_model(inputs, num_classes):\n",
    "    \n",
    "    # TODO Add Encoder Blocks. \n",
    "    a = encoder_block(inputs,filters = 64, strides = 2)\n",
    "    b = encoder_block(a, filters = 64*2, strides = 2)\n",
    "    c = encoder_block(b, filters = 64*4,strides = 2)\n",
    "    # Remember that with each encoder layer, the depth of your model (the number of filters) increases.\n",
    "\n",
    "    # TODO Add 1x1 Convolution layer using conv2d_batchnorm().\n",
    "    x_mid = conv2d_batchnorm(c, 64*4, kernel_size = 1, strides= 1)\n",
    "    # TODO: Add the same number of Decoder Blocks as the number of Encoder Blocks\n",
    "    \n",
    "    x = decoder_block(x_mid, b, filters=256)\n",
    "    y = decoder_block(x, a, filters = 128)\n",
    "    z = decoder_block(y, inputs, filters = 64)\n",
    "    \n",
    "    # The function returns the output layer of your model. \"x\" is the final layer obtained from the last decoder_block()\n",
    "    return layers.Conv2D(num_classes, 1, activation='softmax', padding='same')(z)"
   ]
  },
  {
   "cell_type": "markdown",
   "metadata": {},
   "source": [
    "## Training <a id='training'></a>\n",
    "The following cells will use the FCN you created and define an ouput layer based on the size of the processed image and the number of classes recognized. You will define the hyperparameters to compile and train your model.\n",
    "\n",
    "Please Note: For this project, the helper code in `data_iterator.py` will resize the copter images to 160x160x3 to speed up training."
   ]
  },
  {
   "cell_type": "code",
   "execution_count": 7,
   "metadata": {
    "collapsed": true
   },
   "outputs": [],
   "source": [
    "\"\"\"\n",
    "DON'T MODIFY ANYTHING IN THIS CELL THAT IS BELOW THIS LINE\n",
    "\"\"\"\n",
    "\n",
    "image_hw = 160\n",
    "image_shape = (image_hw, image_hw, 3)\n",
    "inputs = layers.Input(image_shape)\n",
    "num_classes = 3\n",
    "\n",
    "# Call fcn_model()\n",
    "output_layer = fcn_model(inputs, num_classes)"
   ]
  },
  {
   "cell_type": "markdown",
   "metadata": {},
   "source": [
    "### Hyperparameters\n",
    "Define and tune your hyperparameters.\n",
    "- **batch_size**: number of training samples/images that get propagated through the network in a single pass.\n",
    "- **num_epochs**: number of times the entire training dataset gets propagated through the network.\n",
    "- **steps_per_epoch**: number of batches of training images that go through the network in 1 epoch. We have provided you with a default value. One recommended value to try would be based on the total number of images in training dataset divided by the batch_size.\n",
    "- **validation_steps**: number of batches of validation images that go through the network in 1 epoch. This is similar to steps_per_epoch, except validation_steps is for the validation dataset. We have provided you with a default value for this as well.\n",
    "- **workers**: maximum number of processes to spin up. This can affect your training speed and is dependent on your hardware. We have provided a recommended value to work with. "
   ]
  },
  {
   "cell_type": "code",
   "execution_count": null,
   "metadata": {
    "collapsed": true
   },
   "outputs": [],
   "source": [
    "learning_rate = 0.002\n",
    "batch_size = 16\n",
    "num_epochs = 50\n",
    "steps_per_epoch = 200\n",
    "validation_steps = 50\n",
    "workers = 2"
   ]
  },
  {
   "cell_type": "code",
   "execution_count": null,
   "metadata": {},
   "outputs": [
    {
     "name": "stdout",
     "output_type": "stream",
     "text": [
      "Epoch 1/50\n",
      "199/200 [============================>.] - ETA: 11s - loss: 0.2719"
     ]
    },
    {
     "data": {
      "image/png": "[encoded data removed]",
      "text/plain": [
       "<matplotlib.figure.Figure at 0x127341400>"
      ]
     },
     "metadata": {},
     "output_type": "display_data"
    },
    {
     "name": "stdout",
     "output_type": "stream",
     "text": [
      "200/200 [==============================] - 2601s - loss: 0.2708 - val_loss: 0.1075\n",
      "Epoch 2/50\n",
      "199/200 [============================>.] - ETA: 11s - loss: 0.0460"
     ]
    },
    {
     "data": {
      "image/png": "[encoded data removed]",
      "text/plain": [
       "<matplotlib.figure.Figure at 0x123e46c18>"
      ]
     },
     "metadata": {},
     "output_type": "display_data"
    },
    {
     "name": "stdout",
     "output_type": "stream",
     "text": [
      "200/200 [==============================] - 2539s - loss: 0.0461 - val_loss: 0.0970\n",
      "Epoch 3/50\n",
      "199/200 [============================>.] - ETA: 43s - loss: 0.0396"
     ]
    },
    {
     "data": {
      "image/png": "[encoded data removed]",
      "text/plain": [
       "<matplotlib.figure.Figure at 0x127323e80>"
      ]
     },
     "metadata": {},
     "output_type": "display_data"
    },
    {
     "name": "stdout",
     "output_type": "stream",
     "text": [
      "200/200 [==============================] - 8960s - loss: 0.0396 - val_loss: 0.0560\n",
      "Epoch 4/50\n",
      "134/200 [===================>..........] - ETA: 4654s - loss: 0.0356"
     ]
    }
   ],
   "source": [
    "\"\"\"\n",
    "DON'T MODIFY ANYTHING IN THIS CELL THAT IS BELOW THIS LINE\n",
    "\"\"\"\n",
    "# Define the Keras model and compile it for training\n",
    "model = models.Model(inputs=inputs, outputs=output_layer)\n",
    "\n",
    "model.compile(optimizer=keras.optimizers.Adam(learning_rate), loss='categorical_crossentropy')\n",
    "\n",
    "# Data iterators for loading the training and validation data\n",
    "train_iter = data_iterator.BatchIteratorSimple(batch_size=batch_size,\n",
    "                                               data_folder=os.path.join('..', 'data', 'train'),\n",
    "                                               image_shape=image_shape,\n",
    "                                               shift_aug=True)\n",
    "\n",
    "val_iter = data_iterator.BatchIteratorSimple(batch_size=batch_size,\n",
    "                                             data_folder=os.path.join('..', 'data', 'validation'),\n",
    "                                             image_shape=image_shape)\n",
    "\n",
    "logger_cb = plotting_tools.LoggerPlotter()\n",
    "callbacks = [logger_cb]\n",
    "\n",
    "model.fit_generator(train_iter,\n",
    "                    steps_per_epoch = steps_per_epoch, # the number of batches per epoch,\n",
    "                    epochs = num_epochs, # the number of epochs to train for,\n",
    "                    validation_data = val_iter, # validation iterator\n",
    "                    validation_steps = validation_steps, # the number of batches to validate on\n",
    "                    callbacks=callbacks,\n",
    "                    workers = workers)"
   ]
  },
  {
   "cell_type": "code",
   "execution_count": null,
   "metadata": {
    "collapsed": true
   },
   "outputs": [],
   "source": [
    "# Save your trained model weights\n",
    "weight_file_name = 'model_weights'\n",
    "model_tools.save_network(model, weight_file_name)"
   ]
  },
  {
   "cell_type": "markdown",
   "metadata": {},
   "source": [
    "## Prediction <a id='prediction'></a>\n",
    "\n",
    "Now that you have your model trained and saved, you can make predictions on your validation dataset. These predictions can be compared to the mask images, which are the ground truth labels, to evaluate how well your model is doing under different conditions.\n",
    "\n",
    "There are three different predictions available from the helper code provided:\n",
    "- **patrol_with_targ**: Test how well the network can detect the hero from a distance.\n",
    "- **patrol_non_targ**: Test how often the network makes a mistake and identifies the wrong person as the target.\n",
    "- **following_images**: Test how well the network can identify the target while following them."
   ]
  },
  {
   "cell_type": "code",
   "execution_count": null,
   "metadata": {
    "collapsed": true
   },
   "outputs": [],
   "source": [
    "# If you need to load a model which you previously trained you can uncomment the codeline that calls the function below.\n",
    "\n",
    "# weight_file_name = 'model_weights'\n",
    "# restored_model = model_tools.load_network(weight_file_name)"
   ]
  },
  {
   "cell_type": "markdown",
   "metadata": {},
   "source": [
    "The following cell will write predictions to files and return paths to the appropriate directories.\n",
    "The `run_num` parameter is used to define or group all the data for a particular model run. You can change it for different runs. For example, 'run_1', 'run_2' etc."
   ]
  },
  {
   "cell_type": "code",
   "execution_count": null,
   "metadata": {
    "collapsed": true
   },
   "outputs": [],
   "source": [
    "run_num = 'run_1'\n",
    "\n",
    "val_with_targ, pred_with_targ = model_tools.write_predictions_grade_set(model,\n",
    "                                        run_num,'patrol_with_targ', 'sample_evaluation_data') \n",
    "\n",
    "val_no_targ, pred_no_targ = model_tools.write_predictions_grade_set(model, \n",
    "                                        run_num,'patrol_non_targ', 'sample_evaluation_data') \n",
    "\n",
    "val_following, pred_following = model_tools.write_predictions_grade_set(model,\n",
    "                                        run_num,'following_images', 'sample_evaluation_data')"
   ]
  },
  {
   "cell_type": "markdown",
   "metadata": {},
   "source": [
    "Now lets look at your predictions, and compare them to the ground truth labels and original images.\n",
    "Run each of the following cells to visualize some sample images from the predictions in the validation set."
   ]
  },
  {
   "cell_type": "code",
   "execution_count": null,
   "metadata": {
    "collapsed": true
   },
   "outputs": [],
   "source": [
    "# images while following the target\n",
    "im_files = plotting_tools.get_im_file_sample('sample_evaluation_data','following_images', run_num) \n",
    "for i in range(3):\n",
    "    im_tuple = plotting_tools.load_images(im_files[i])\n",
    "    plotting_tools.show_images(im_tuple)\n",
    "    "
   ]
  },
  {
   "cell_type": "code",
   "execution_count": null,
   "metadata": {
    "collapsed": true
   },
   "outputs": [],
   "source": [
    "# images while at patrol without target\n",
    "im_files = plotting_tools.get_im_file_sample('sample_evaluation_data','patrol_non_targ', run_num) \n",
    "for i in range(3):\n",
    "    im_tuple = plotting_tools.load_images(im_files[i])\n",
    "    plotting_tools.show_images(im_tuple)\n",
    " "
   ]
  },
  {
   "cell_type": "code",
   "execution_count": null,
   "metadata": {
    "collapsed": true
   },
   "outputs": [],
   "source": [
    "   \n",
    "# images while at patrol with target\n",
    "im_files = plotting_tools.get_im_file_sample('sample_evaluation_data','patrol_with_targ', run_num) \n",
    "for i in range(3):\n",
    "    im_tuple = plotting_tools.load_images(im_files[i])\n",
    "    plotting_tools.show_images(im_tuple)"
   ]
  },
  {
   "cell_type": "markdown",
   "metadata": {},
   "source": [
    "## Evaluation <a id='evaluation'></a>\n",
    "Evaluate your model! The following cells include several different scores to help you evaluate your model under the different conditions discussed during the Prediction step. "
   ]
  },
  {
   "cell_type": "code",
   "execution_count": null,
   "metadata": {
    "collapsed": true
   },
   "outputs": [],
   "source": [
    "# Scores for while the quad is following behind the target. \n",
    "true_pos1, false_pos1, false_neg1, iou1 = scoring_utils.score_run_iou(val_following, pred_following)"
   ]
  },
  {
   "cell_type": "code",
   "execution_count": null,
   "metadata": {
    "collapsed": true
   },
   "outputs": [],
   "source": [
    "# Scores for images while the quad is on patrol and the target is not visable\n",
    "true_pos2, false_pos2, false_neg2, iou2 = scoring_utils.score_run_iou(val_no_targ, pred_no_targ)"
   ]
  },
  {
   "cell_type": "code",
   "execution_count": null,
   "metadata": {
    "collapsed": true
   },
   "outputs": [],
   "source": [
    "# This score measures how well the neural network can detect the target from far away\n",
    "true_pos3, false_pos3, false_neg3, iou3 = scoring_utils.score_run_iou(val_with_targ, pred_with_targ)"
   ]
  },
  {
   "cell_type": "code",
   "execution_count": null,
   "metadata": {
    "collapsed": true
   },
   "outputs": [],
   "source": [
    "# Sum all the true positives, etc from the three datasets to get a weight for the score\n",
    "true_pos = true_pos1 + true_pos2 + true_pos3\n",
    "false_pos = false_pos1 + false_pos2 + false_pos3\n",
    "false_neg = false_neg1 + false_neg2 + false_neg3\n",
    "\n",
    "weight = true_pos/(true_pos+false_neg+false_pos)\n",
    "print(weight)"
   ]
  },
  {
   "cell_type": "code",
   "execution_count": null,
   "metadata": {
    "collapsed": true
   },
   "outputs": [],
   "source": [
    "# The IoU for the dataset that never includes the hero is excluded from grading\n",
    "final_IoU = (iou1 + iou3)/2\n",
    "print(final_IoU)"
   ]
  },
  {
   "cell_type": "code",
   "execution_count": null,
   "metadata": {
    "collapsed": true
   },
   "outputs": [],
   "source": [
    "# And the final grade score is \n",
    "final_score = final_IoU * weight\n",
    "print(final_score)"
   ]
  },
  {
   "cell_type": "code",
   "execution_count": null,
   "metadata": {
    "collapsed": true
   },
   "outputs": [],
   "source": []
  },
  {
   "cell_type": "code",
   "execution_count": null,
   "metadata": {
    "collapsed": true
   },
   "outputs": [],
   "source": []
  }
 ],
 "metadata": {
  "kernelspec": {
   "display_name": "Python 3",
   "language": "python",
   "name": "python3"
  },
  "language_info": {
   "codemirror_mode": {
    "name": "ipython",
    "version": 3
   },
   "file_extension": ".py",
   "mimetype": "text/x-python",
   "name": "python",
   "nbconvert_exporter": "python",
   "pygments_lexer": "ipython3",
   "version": "3.5.2"
  },
  "widgets": {
   "state": {},
   "version": "1.1.2"
  }
 },
 "nbformat": 4,
 "nbformat_minor": 2
}
